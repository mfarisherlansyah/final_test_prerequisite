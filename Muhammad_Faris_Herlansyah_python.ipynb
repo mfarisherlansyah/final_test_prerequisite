{
  "nbformat": 4,
  "nbformat_minor": 0,
  "metadata": {
    "colab": {
      "provenance": [],
      "collapsed_sections": [
        "mHn4dahHthcr",
        "8rJAViFqu2Mp",
        "iitkUoYjxxZ_",
        "12xDDdzb1AN2",
        "9TLIqzWW59NH",
        "M5K-F970XVAn",
        "zSIPgPCNpTvP",
        "EAfzCwRWbEKo",
        "fI9XOK7heIDc",
        "8nLTA3CZkOwn"
      ]
    },
    "kernelspec": {
      "name": "python3",
      "display_name": "Python 3"
    },
    "language_info": {
      "name": "python"
    }
  },
  "cells": [
    {
      "cell_type": "markdown",
      "source": [
        "# Python Prerequisite Test\n",
        "\n",
        "By: Pacmann AI\n",
        "\n",
        "---"
      ],
      "metadata": {
        "id": "q5PnI2Mzb-Im"
      }
    },
    {
      "cell_type": "markdown",
      "source": [
        "**Instructions**:\n",
        "- Make a Copy of this notebook.\n",
        "- Answer all questions.\n",
        "- Submit your answer in **.ipynb** format named with `your_name-python.ipynb`\n",
        "- Example: `budi_xaskha-python.ipynb`\n",
        "- **Submission Link**: [SUBMIT YOUR ANSWER](https://forms.gle/3VGV3t59rsPhbpZn9)\n",
        "\n",
        "**Note**:\n",
        "- There are 10 questions to answer.\n",
        "- You have to answer the question according to the descriptions. **Please read the description and docstring carefully**.\n",
        "- There are several test cases you can use to **validate your answer**.\n",
        "- <font color='red'>**YOU MUST ANSWER THE QUESTIONS WITHOUT USING ANY LIBRARY**</font>\n",
        "- **Do not change** the function / class name.\n",
        "- <font color='red'>**Hard deadline**: 1 week before first main course (not a prerequisite course) start</font>"
      ],
      "metadata": {
        "id": "71yk0pGecCQE"
      }
    },
    {
      "cell_type": "markdown",
      "source": [
        "# 1. Find the Structure of Data\n",
        "---"
      ],
      "metadata": {
        "id": "mHn4dahHthcr"
      }
    },
    {
      "cell_type": "markdown",
      "source": [
        "Given a 2D list of data, your task is to create a function that returns the number of rows & columns from that list."
      ],
      "metadata": {
        "id": "JUzi1KZCtmF0"
      }
    },
    {
      "cell_type": "markdown",
      "source": [
        "---\n",
        "Input example-1:\n",
        "\n",
        "```python\n",
        "data = [[1, 2, 3],\n",
        "        [4, 5, 6],\n",
        "        [7, 8, 9],\n",
        "        [10, 11, 12]]\n",
        "\n",
        "res = check_structure(data)\n",
        "print(res)\n",
        "```\n",
        "\n",
        "Output example-1:\n",
        "```\n",
        "[4 3]\n",
        "```"
      ],
      "metadata": {
        "id": "AT8xz-OAPmEY"
      }
    },
    {
      "cell_type": "markdown",
      "source": [
        "---\n",
        "Input example-2:\n",
        "\n",
        "```python\n",
        "data = [[4, 3, 2, 10],\n",
        "        [8, 2, 1, 3]]\n",
        "\n",
        "res = check_structure(data)\n",
        "print(res)\n",
        "```\n",
        "\n",
        "Output example-2:\n",
        "```\n",
        "[2 4]\n",
        "```"
      ],
      "metadata": {
        "id": "jKbR_YtrPmEZ"
      }
    },
    {
      "cell_type": "markdown",
      "source": [
        "---\n",
        "Input example-3:\n",
        "\n",
        "```python\n",
        "data = [[0.5, 0.3, 0.1]]\n",
        "\n",
        "res = check_structure(data)\n",
        "print(res)\n",
        "```\n",
        "\n",
        "Output example-3:\n",
        "```\n",
        "[1 3]\n",
        "```"
      ],
      "metadata": {
        "id": "TfFau3ijXoTC"
      }
    },
    {
      "cell_type": "markdown",
      "source": [
        "---\n",
        "Write the function here"
      ],
      "metadata": {
        "id": "7pwr-IgvuaIa"
      }
    },
    {
      "cell_type": "code",
      "execution_count": null,
      "metadata": {
        "id": "D2YaIRWlq5w4"
      },
      "outputs": [],
      "source": [
        "# DO NOT CHANGE THE NAME & INPUT OF THE FUNCTION\n",
        "def check_structure(data):\n",
        "    '''\n",
        "    Function to check the data structures\n",
        "\n",
        "    Parameters\n",
        "    ----------\n",
        "    data : list\n",
        "        The 2D sample data\n",
        "\n",
        "    Returns\n",
        "    --------\n",
        "    data_shape : list\n",
        "        The shape of data with format [nrows, ncols]\n",
        "        nrows = number of rows\n",
        "        ncols = number of columns\n",
        "    '''\n",
        "    ###\n",
        "    ### YOUR CODE HERE\n",
        "    ###\n",
        "\n",
        "    # Check if the input data is not list\n",
        "    if type(data) != list:\n",
        "      return \"Data should be a list.\"\n",
        "    else:\n",
        "      for i in range(len(data)):\n",
        "\n",
        "        # Check whether the input data is not a 2D list\n",
        "        if type(data[i]) != list:\n",
        "          return \"Data should be a 2D list.\"\n",
        "\n",
        "      # Initialize variables to store the rows and columns\n",
        "      nrows, ncols = 0, 0\n",
        "\n",
        "      # Check whether the length of each row is the same\n",
        "      for row in data:\n",
        "        if len(row) == len(data[0]):\n",
        "\n",
        "          # Column length\n",
        "          ncols = len(row)\n",
        "        else:\n",
        "          return \"All rows must be of the same length\"\n",
        "\n",
        "      # Row length\n",
        "      nrows = len(data)\n",
        "\n",
        "    return [nrows, ncols]"
      ]
    },
    {
      "cell_type": "markdown",
      "source": [
        "Check function"
      ],
      "metadata": {
        "id": "Td84PTkvumQG"
      }
    },
    {
      "cell_type": "code",
      "source": [
        "# DO NOT CHANGE ANYTHING IN THIS CELL\n",
        "# Just run after you finish the function\n",
        "data = [[1, 2, 3],\n",
        "        [4, 5, 6],\n",
        "        [7, 8, 9],\n",
        "        [10, 11, 12]]\n",
        "\n",
        "data_shape = check_structure(data)\n",
        "print(data_shape)"
      ],
      "metadata": {
        "colab": {
          "base_uri": "https://localhost:8080/"
        },
        "id": "U0ImiFp9uYIq",
        "outputId": "eaf9c3f7-44ac-4de9-f711-256c240df5c2"
      },
      "execution_count": null,
      "outputs": [
        {
          "output_type": "stream",
          "name": "stdout",
          "text": [
            "[4, 3]\n"
          ]
        }
      ]
    },
    {
      "cell_type": "markdown",
      "source": [
        "# 2. Create a Weighted Average Function\n",
        "---"
      ],
      "metadata": {
        "id": "8rJAViFqu2Mp"
      }
    },
    {
      "cell_type": "markdown",
      "source": [
        "Given a list of number (`data`) and list of weight (`w`), we want to find its weighted average.\n",
        "\n",
        "To calculate the weighted average, you can use belows formula\n",
        "\n",
        "$$\n",
        "\\begin{align*}\n",
        "\\text{weighted average} &= \\sum_{i=1}^{n} w_{i} \\cdot \\text{data}_{i} \\\\\n",
        "\\text{weighted average} &= w_{1} \\cdot \\text{data}_{1} +  w_{2} \\cdot \\text{data}_{2} + \\cdots + w_{n} \\cdot \\text{data}_{n}\\\\\n",
        "\\end{align*}\n",
        "$$"
      ],
      "metadata": {
        "id": "HvhZSTv4u6VZ"
      }
    },
    {
      "cell_type": "markdown",
      "source": [
        "---\n",
        "Input example-1:\n",
        "\n",
        "```python\n",
        "data = [10, 20, 30, 40, 50]\n",
        "w = [0.10, 0.20, 0.25, 0.3, 0.15]\n",
        "\n",
        "avg = calc_weighted_avg(data, w)\n",
        "print(avg)\n",
        "```\n",
        "\n",
        "Output example-1:\n",
        "```\n",
        "32.0\n",
        "```"
      ],
      "metadata": {
        "id": "LNo78Dl0o-5l"
      }
    },
    {
      "cell_type": "markdown",
      "source": [
        "---\n",
        "Input example-2:\n",
        "\n",
        "```python\n",
        "data = [-2, -1, 0, 1, 2]\n",
        "w = [0.2, 0.2, 0.2, 0.2, 0.2]\n",
        "\n",
        "avg = calc_weighted_avg(data, w)\n",
        "print(avg)\n",
        "```\n",
        "\n",
        "Output example-2:\n",
        "```\n",
        "0.0\n",
        "```"
      ],
      "metadata": {
        "id": "1YEY_NSkCiPz"
      }
    },
    {
      "cell_type": "markdown",
      "source": [
        "---\n",
        "Input example-3:\n",
        "\n",
        "```python\n",
        "data = [12, 13.5, 9.8, 10.3]\n",
        "w = [0.10, 0.20, 0.30, 0.40]\n",
        "\n",
        "avg = calc_weighted_avg(data, w)\n",
        "print(avg)\n",
        "```\n",
        "\n",
        "Output example-3:\n",
        "```\n",
        "10.96\n",
        "```"
      ],
      "metadata": {
        "id": "9ZFZ0t2-DtL2"
      }
    },
    {
      "cell_type": "markdown",
      "source": [
        "---\n",
        "Write function"
      ],
      "metadata": {
        "id": "d_qWR0fyPrlm"
      }
    },
    {
      "cell_type": "code",
      "source": [
        "# DO NOT CHANGE THE NAME & INPUT OF THE FUNCTION\n",
        "def calc_weighted_avg(data, w):\n",
        "    '''\n",
        "    Function to calculate the weighted average of a list\n",
        "\n",
        "    Parameters\n",
        "    ----------\n",
        "    data : list\n",
        "        The sample data\n",
        "\n",
        "    w : list\n",
        "        The sample weights\n",
        "\n",
        "    Returns\n",
        "    -------\n",
        "    avg : float\n",
        "        The weighted average\n",
        "    '''\n",
        "    ###\n",
        "    ### YOUR CODE HERE\n",
        "    ###\n",
        "\n",
        "    # Check whether the lengths of the data and the weights are the same\n",
        "    if len(data) != len(w):\n",
        "      return \"The lengths of data and w must be of the same size\"\n",
        "    else:\n",
        "      weighted_avg = 0\n",
        "      for i, j in zip(range(len(data)), range(len(w))):\n",
        "        weighted_avg += data[i] * w[j]    # Add values of weighted averages\n",
        "\n",
        "      return round(weighted_avg, 2)   # Return total of weighted averages"
      ],
      "metadata": {
        "id": "cNW88OLpu4HH"
      },
      "execution_count": null,
      "outputs": []
    },
    {
      "cell_type": "markdown",
      "source": [
        "Check function"
      ],
      "metadata": {
        "id": "mN7H9zGexdDN"
      }
    },
    {
      "cell_type": "code",
      "source": [
        "# DO NOT CHANGE ANYTHING IN THIS CELL\n",
        "# Just run after you finish the function\n",
        "data = [10, 20, 30, 40, 50]\n",
        "w = [0.10, 0.20, 0.25, 0.3, 0.15]\n",
        "\n",
        "avg = calc_weighted_avg(data, w)\n",
        "print(avg)"
      ],
      "metadata": {
        "colab": {
          "base_uri": "https://localhost:8080/"
        },
        "id": "RLEMQHtuxfhk",
        "outputId": "5ad5430c-3d56-4f72-d03e-fca3a6cd6380"
      },
      "execution_count": null,
      "outputs": [
        {
          "output_type": "stream",
          "name": "stdout",
          "text": [
            "32.0\n"
          ]
        }
      ]
    },
    {
      "cell_type": "markdown",
      "source": [
        "# 3. Which Toko is More Profitable?\n",
        "---"
      ],
      "metadata": {
        "id": "iitkUoYjxxZ_"
      }
    },
    {
      "cell_type": "markdown",
      "source": [
        "You are a data analyst that works with financial team. You are given three list of data: `revenues`, `costs`, and `toko_ID`.\n",
        "\n",
        "Your manager asked which `toko_ID` that is profitable. A `toko` is called profitable if its revenue is higher than its cost.\n",
        "\n",
        "Create a function to return which `toko_ID` is profitable from a given `revenues` and `costs` data."
      ],
      "metadata": {
        "id": "ZuQQBYhFx829"
      }
    },
    {
      "cell_type": "markdown",
      "source": [
        "---\n",
        "Input example-1:\n",
        "\n",
        "```python\n",
        "toko_ID = ['A001', 'B002', 'C003', 'D004']\n",
        "revenues = [80000, 120000, 57000, 450000]\n",
        "costs = [90000, 110000, 57000, 420000]\n",
        "\n",
        "toko_profit = profitable_toko(toko_ID, revenues, costs)\n",
        "print(toko_profit)\n",
        "```\n",
        "\n",
        "Output example-1:\n",
        "```\n",
        "['B002', 'D004']\n",
        "```"
      ],
      "metadata": {
        "id": "98H7qqUKEwfA"
      }
    },
    {
      "cell_type": "markdown",
      "source": [
        "---\n",
        "Input example-2:\n",
        "\n",
        "```python\n",
        "toko_ID = ['p', 'q', 'r']\n",
        "revenues = [80, 90, 30]\n",
        "costs = [70, 100, 20]\n",
        "\n",
        "toko_profit = profitable_toko(toko_ID, revenues, costs)\n",
        "print(toko_profit)\n",
        "```\n",
        "\n",
        "Output example-2:\n",
        "```\n",
        "['p', 'r']\n",
        "```"
      ],
      "metadata": {
        "id": "1ZPMsC2UFAkt"
      }
    },
    {
      "cell_type": "markdown",
      "source": [
        "---\n",
        "Input example-3:\n",
        "\n",
        "```python\n",
        "toko_ID = ['a', 'b', 'c']\n",
        "revenues = [80, 80, 70]\n",
        "costs = [80, 80, 90]\n",
        "\n",
        "toko_profit = profitable_toko(toko_ID, revenues, costs)\n",
        "print(toko_profit)\n",
        "```\n",
        "\n",
        "Output example-3:\n",
        "```\n",
        "[]\n",
        "```"
      ],
      "metadata": {
        "id": "Jg9pt7LsFMCV"
      }
    },
    {
      "cell_type": "markdown",
      "source": [
        "---\n",
        "Write a function"
      ],
      "metadata": {
        "id": "bGCHn3MqPw_B"
      }
    },
    {
      "cell_type": "code",
      "source": [
        "# DO NOT CHANGE THE NAME & INPUT OF THE FUNCTION\n",
        "def profitable_toko(toko_ID, revenues, costs):\n",
        "    '''\n",
        "    Function to return which toko ID is profitable\n",
        "\n",
        "    Parameters\n",
        "    ----------\n",
        "    toko_ID : list\n",
        "        The ID of toko\n",
        "\n",
        "    revenues : list\n",
        "        The list of revenue from the corresponding toko_ID\n",
        "\n",
        "    costs : list\n",
        "        The list of cost from the corresponding toko_ID\n",
        "\n",
        "    Returns\n",
        "    -------\n",
        "    toko_profit : list\n",
        "        The ID of toko that is profitable\n",
        "    '''\n",
        "    ###\n",
        "    ### Your Code Here\n",
        "    ###\n",
        "\n",
        "    # Check whether the lenghts of the lists are not the same\n",
        "    if len(toko_ID) != len(revenues) or len(toko_ID) != len(costs) or len(revenues) != len(costs):\n",
        "      return \"The length of the three input lists must be same.\"\n",
        "    else:\n",
        "\n",
        "      # Initialize empty list to store profitable shops\n",
        "      is_profit = []\n",
        "      for revenue, cost in zip(revenues, costs):\n",
        "        if revenue - cost > 0:\n",
        "          is_profit.append(True)    # Append true if the shop is profitable\n",
        "        else:\n",
        "          is_profit.append(False)   # Append false if the shop is not profitable\n",
        "\n",
        "    return [toko for toko, profit in zip(toko_ID, is_profit) if profit == True]"
      ],
      "metadata": {
        "id": "4kyAyD_2xxAN"
      },
      "execution_count": null,
      "outputs": []
    },
    {
      "cell_type": "markdown",
      "source": [
        "Check function"
      ],
      "metadata": {
        "id": "_aqUmC_00w2U"
      }
    },
    {
      "cell_type": "code",
      "source": [
        "# DO NOT CHANGE ANYTHING IN THIS CELL\n",
        "# Just run after you finish the function\n",
        "toko_ID = ['A001', 'B002', 'C003', 'D004']\n",
        "revenues = [80000, 120000, 57000, 450000]\n",
        "costs = [90000, 110000, 57000, 420000]\n",
        "\n",
        "toko_profit = profitable_toko(toko_ID, revenues, costs)\n",
        "print(toko_profit)"
      ],
      "metadata": {
        "colab": {
          "base_uri": "https://localhost:8080/"
        },
        "id": "5wOtfjJK0wRL",
        "outputId": "515670ea-3e1b-4b2d-c0fa-b477499a7cae"
      },
      "execution_count": null,
      "outputs": [
        {
          "output_type": "stream",
          "name": "stdout",
          "text": [
            "['B002', 'D004']\n"
          ]
        }
      ]
    },
    {
      "cell_type": "markdown",
      "source": [
        "# 4. Clean the Phone Number\n",
        "---"
      ],
      "metadata": {
        "id": "12xDDdzb1AN2"
      }
    },
    {
      "cell_type": "markdown",
      "source": [
        "You are on a marketing team that have to transfer e-money as a gift to your customer.\n",
        "\n",
        "You noticed that the phone number data is inconsistent & you have to clean it.\n",
        "\n",
        "This is the valid definition of phone number\n",
        "- Starts with `62`, e.g. `62xxxxxxxxxxx`\n",
        "- It must be 11 digit number, excluding `62`\n",
        "\n",
        "Clean the phone number first. If after cleaning, there is an invalid phone number, change the phone number with `'Invalid number'`."
      ],
      "metadata": {
        "id": "oc1RC7A01PaX"
      }
    },
    {
      "cell_type": "markdown",
      "source": [
        "---\n",
        "Input example-1:\n",
        "\n",
        "```python\n",
        "phone_lists = [\n",
        "    '82123321123',\n",
        "    '082321123321',\n",
        "    '+6282-456-654-456',\n",
        "    '+62 82 789 987 789',\n",
        "    '14045',\n",
        "    '82145-451-145'\n",
        "]\n",
        "\n",
        "phone_clean = clean_phone_number(phone_lists)\n",
        "print(phone_clean)\n",
        "```\n",
        "\n",
        "Output example-1:\n",
        "```\n",
        "[6282123321123, 6282321123321, 6282456654456, 6282789987789, 'Invalid number', 6282145451145]\n",
        "```"
      ],
      "metadata": {
        "id": "g-Kog1BBGGic"
      }
    },
    {
      "cell_type": "markdown",
      "source": [
        "---\n",
        "Input example-2:\n",
        "\n",
        "```python\n",
        "phone_lists = [\n",
        "    '82432234432',\n",
        "    '+62 82 32',\n",
        "    '14032',\n",
        "    '082 234 432 234'\n",
        "]\n",
        "\n",
        "phone_clean = clean_phone_number(phone_lists)\n",
        "print(phone_clean)\n",
        "```\n",
        "\n",
        "Output example-2:\n",
        "```\n",
        "[6282432234432, 'Invalid number', 'Invalid number', 6282234432234]\n",
        "```"
      ],
      "metadata": {
        "id": "mQ3qZYoBGTiT"
      }
    },
    {
      "cell_type": "markdown",
      "source": [
        "---\n",
        "Write function"
      ],
      "metadata": {
        "id": "tU0rr-MaP3I3"
      }
    },
    {
      "cell_type": "code",
      "source": [
        "# DO NOT CHANGE THE NAME & INPUT OF THE FUNCTION\n",
        "def clean_phone_number(phone_list):\n",
        "    '''\n",
        "    Function to clean the phone number\n",
        "\n",
        "    Parameters\n",
        "    ----------\n",
        "    phone_list : list\n",
        "        The raw sample of phone data\n",
        "\n",
        "    Returns\n",
        "    -------\n",
        "    phone_clean : list\n",
        "        The clean sample of phone data\n",
        "    '''\n",
        "    ###\n",
        "    ### YOUR CODE HERE\n",
        "    ###\n",
        "\n",
        "    # Check if the phone numbers are not string\n",
        "    for i in range(len(phone_list)):\n",
        "      if type(phone_list[i]) != str:\n",
        "        phone_list[i] = str(phone_list[i])    # convert to string if the phone numbers are not string\n",
        "\n",
        "    # Initialize empty list to store cleaned phone numbers\n",
        "    list_phone_numbers = []\n",
        "\n",
        "\n",
        "    for i in range(len(phone_list)):\n",
        "      if phone_list[i].isdigit() == False:    # Filter out non-numeric characters from the phone numbers\n",
        "        phone_list[i] = \"\".join(char for char in phone_list[i] if char.isdigit())\n",
        "\n",
        "      if phone_list[i][:2] != \"62\":\n",
        "        if phone_list[i][0] == \"0\":\n",
        "          phone_list[i] = \"62\" + phone_list[i][1:]    # If the phone number starts from 0, replace the first char with 62\n",
        "        else:\n",
        "          phone_list[i] = \"62\" + phone_list[i]\n",
        "\n",
        "      if len(phone_list[i][2:]) != 11 or phone_list[i][2] != \"8\":\n",
        "        list_phone_numbers.append(\"Invalid number\")   # If the length is not 13 or the 2nd character is not 8\n",
        "      else:\n",
        "        list_phone_numbers.append(int(phone_list[i]))   # Add valid numbers\n",
        "\n",
        "    return list_phone_numbers"
      ],
      "metadata": {
        "id": "nWo8pCxb29oT"
      },
      "execution_count": null,
      "outputs": []
    },
    {
      "cell_type": "markdown",
      "source": [
        "Check function"
      ],
      "metadata": {
        "id": "vVzL-QZH439i"
      }
    },
    {
      "cell_type": "code",
      "source": [
        "# DO NOT CHANGE ANYTHING IN THIS CELL\n",
        "# Just run after you finish the function\n",
        "phone_lists = [\n",
        "    '82123321123',\n",
        "    '082321123321',\n",
        "    '+6282-456-654-456',\n",
        "    '+62 82 789 987 789',\n",
        "    '14045',\n",
        "    '82145-451-145'\n",
        "]\n",
        "\n",
        "phone_clean = clean_phone_number(phone_lists)\n",
        "print(phone_clean)"
      ],
      "metadata": {
        "colab": {
          "base_uri": "https://localhost:8080/"
        },
        "id": "RlqzRVVi1CwZ",
        "outputId": "f8a67edc-f527-4027-a030-1c551b75ce05"
      },
      "execution_count": null,
      "outputs": [
        {
          "output_type": "stream",
          "name": "stdout",
          "text": [
            "[6282123321123, 6282321123321, 6282456654456, 6282789987789, 'Invalid number', 6282145451145]\n"
          ]
        }
      ]
    },
    {
      "cell_type": "markdown",
      "source": [
        "# 5. Find the Nearest Tourism Object\n",
        "---"
      ],
      "metadata": {
        "id": "9TLIqzWW59NH"
      }
    },
    {
      "cell_type": "markdown",
      "source": [
        "You are developing a web application that recommend good place to stay during holiday sessions.\n",
        "\n",
        "A feature loved by most of customer is **finding** the nearest tourism object from a position (could be their hotel).\n",
        "\n",
        "Given that each object/places has an location coordinates (x, y), you can calculate the distance of two objects by\n",
        "\n",
        "$$\n",
        "\\text{dist}(A, B)\n",
        "=\n",
        "\\sqrt{\n",
        "    (A_{x} - B_{x})^{2}\n",
        "    +\n",
        "    (A_{y} - B_{y})^{2}\n",
        "}\n",
        "$$"
      ],
      "metadata": {
        "id": "LV2KK3dH6mma"
      }
    },
    {
      "cell_type": "markdown",
      "source": [
        "Given a list of tourism object (`tourism_name`), tourism object coordinates (`tourism_coor`), and customer places coordinates (`current_coor`), return the nearest tourism object as a `dict` type."
      ],
      "metadata": {
        "id": "slwz-Yj_ARe9"
      }
    },
    {
      "cell_type": "markdown",
      "source": [
        "Example of calculating distance between two objects\n",
        "\n",
        "- Say we want to calculate the distance between `Taman C` and `Danau D`\n",
        "  - `Taman C` location coordinate: `[46.67, 40.44]`\n",
        "  - `Danau D` location coordinate: `[21.83, 1.94]`\n",
        "- So the distance is\n",
        "\n",
        "$$\n",
        "\\begin{align*}\n",
        "\\text{dist}(C, D)\n",
        "&=\n",
        "\\sqrt{\n",
        "    (C_{x} - D_{x})^{2} + (C_{y} - D_{y})^{2}\n",
        "} \\\\\n",
        "&=\n",
        "\\sqrt{\n",
        "    (46.67 - 21.83)^{2} + (40.44-1.94)^{2}\n",
        "} \\\\\n",
        "&=\n",
        "\\sqrt{\n",
        "    (24.84)^{2} + (38.50)^{2}\n",
        "} \\\\\n",
        "&=\n",
        "\\sqrt{\n",
        "    2099.28\n",
        "} \\\\\n",
        "\\text{dist}(C, D)\n",
        "&= 45.82\n",
        "\\end{align*}\n",
        "$$"
      ],
      "metadata": {
        "id": "fpzPnc0hdVOf"
      }
    },
    {
      "cell_type": "markdown",
      "source": [
        "---\n",
        "Input example-1:\n",
        "\n",
        "```python\n",
        "current_coor = [-2.21, 3.15]\n",
        "tourism_coor = [\n",
        "    [-34.93, -31.23],\n",
        "    [-77.90, 79.90],\n",
        "    [46.67, 40.44],\n",
        "    [21.83, 1.94],\n",
        "    [41.77, -63.44],\n",
        "    [-1.10, -47.22],\n",
        "    [68.81, 64.65],\n",
        "    [-21.23, 22.03],\n",
        "    [68.30, -69.73],\n",
        "    [12.82, 30.75],\n",
        "]\n",
        "tourism_name = [\n",
        "    'Pantai A',\n",
        "    'Jembatan B',\n",
        "    'Taman C',\n",
        "    'Danau D',\n",
        "    'Perpustakaan E',\n",
        "    'Mall F',\n",
        "    'Monumen G',\n",
        "    'Taman Hutan H',\n",
        "    'Air terjun I',\n",
        "    'Gunung J'\n",
        "]\n",
        "\n",
        "nearest_object = find_nearest(current_coor, tourism_coor, tourism_name)\n",
        "print(nearest_object)\n",
        "```\n",
        "\n",
        "Output example-1:\n",
        "```\n",
        "{'object': 'Danau D', 'dist': 24.07043206924213}\n",
        "```"
      ],
      "metadata": {
        "id": "9n3FrgyUHMxn"
      }
    },
    {
      "cell_type": "markdown",
      "source": [
        "---\n",
        "Input example-2:\n",
        "\n",
        "```python\n",
        "current_coor = [0, 0]\n",
        "tourism_coor = [\n",
        "    [0, 1],\n",
        "    [2, 0],\n",
        "    [0, 3],\n",
        "    [-1, -1],\n",
        "    [-2, -1],\n",
        "    [-1, -3]\n",
        "]\n",
        "tourism_name = [\n",
        "    'object a',\n",
        "    'object b',\n",
        "    'object c',\n",
        "    'object d',\n",
        "    'object e',\n",
        "    'object f'\n",
        "]\n",
        "\n",
        "nearest_object = find_nearest(current_coor, tourism_coor, tourism_name)\n",
        "print(nearest_object)\n",
        "```\n",
        "\n",
        "Output example-2:\n",
        "```\n",
        "{'object': 'object a', 'dist': 1.0}\n",
        "```"
      ],
      "metadata": {
        "id": "SU4xkxlSHgtd"
      }
    },
    {
      "cell_type": "markdown",
      "source": [
        "---\n",
        "Write function"
      ],
      "metadata": {
        "id": "paOw8dccP9ZD"
      }
    },
    {
      "cell_type": "code",
      "source": [
        "# DO NOT CHANGE THE NAME & INPUT OF THE FUNCTION\n",
        "# Function to find distance between 2 object\n",
        "def calc_dist(A, B):\n",
        "    '''\n",
        "    Function to calculate distance between two objects\n",
        "\n",
        "    Parameters\n",
        "    ----------\n",
        "    A : list\n",
        "        The coordinates of object A\n",
        "\n",
        "    B : list\n",
        "        The coordinates of object B\n",
        "\n",
        "    Returns\n",
        "    -------\n",
        "    dist : float\n",
        "        The distance between A & B\n",
        "    '''\n",
        "    ###\n",
        "    ### YOUR CODE HERE\n",
        "    ###\n",
        "\n",
        "    distance = 0\n",
        "\n",
        "    # Check if the lengths of A and B are not the same\n",
        "    if len(A) == 2 and len(B) == 2:\n",
        "\n",
        "      # Calculate the distance\n",
        "      distance = ((A[0]-B[0])**2 + (A[1]-B[1])**2) ** 0.5\n",
        "    else:\n",
        "\n",
        "      # If the lengths of A and B are not the same\n",
        "      return \"The lengths of the two input coordinates must be the same.\"\n",
        "\n",
        "    return distance"
      ],
      "metadata": {
        "id": "ZBffCbsp6Afc"
      },
      "execution_count": null,
      "outputs": []
    },
    {
      "cell_type": "code",
      "source": [
        "# DO NOT CHANGE THE NAME & INPUT OF THE FUNCTION\n",
        "def find_nearest(current_coor, tourism_coor, tourism_name):\n",
        "    '''\n",
        "    Function to find nearest tourism object near current coordinates\n",
        "\n",
        "    Parameters\n",
        "    ----------\n",
        "    current_coor : list\n",
        "        The guest current coordinate\n",
        "\n",
        "    tourism_coor : list\n",
        "        The tourism object coordinates\n",
        "\n",
        "    toursim_name : list\n",
        "        The tourism object name\n",
        "\n",
        "    Returns\n",
        "    -------\n",
        "    nearest_object : dict\n",
        "        The dictionary of nearest tourism object\n",
        "    '''\n",
        "    ###\n",
        "    ### YOUR CODE HERE\n",
        "    ###\n",
        "\n",
        "    # Initialize dictionary to be output\n",
        "    nearest_object = {\"object\": str(), \"dist\": int()}\n",
        "\n",
        "    # Initialize empty list to store distances\n",
        "    list_distances = []\n",
        "\n",
        "    # Check whether the lengths of tourism_coor and tourism_name are not the same\n",
        "    if len(tourism_coor) != len(tourism_name):\n",
        "      return \"The lengths of the tourist object coordinates and names must be the same\"\n",
        "    else:\n",
        "\n",
        "      # Calculate distances\n",
        "      for coor in tourism_coor:\n",
        "        list_distances.append(calc_dist(current_coor, coor))\n",
        "\n",
        "      for dist, coor, name in zip(list_distances, tourism_coor, tourism_name):\n",
        "\n",
        "        # Check for the nearest distance\n",
        "        if dist == min(list_distances):\n",
        "          nearest_object[\"dist\"] = dist     # Insert the nearest distance\n",
        "          nearest_object[\"object\"] = name   # Insert the name of the nearest place\n",
        "\n",
        "      return nearest_object\n"
      ],
      "metadata": {
        "id": "S-s3cwAvJQwL"
      },
      "execution_count": null,
      "outputs": []
    },
    {
      "cell_type": "markdown",
      "source": [
        "Check function"
      ],
      "metadata": {
        "id": "ER89qq4IWiv2"
      }
    },
    {
      "cell_type": "code",
      "source": [
        "# DO NOT CHANGE ANYTHING IN THIS CELL\n",
        "# Just run after you finish the function\n",
        "tourism_name = [\n",
        "    'Pantai A',\n",
        "    'Jembatan B',\n",
        "    'Taman C',\n",
        "    'Danau D',\n",
        "    'Perpustakaan E',\n",
        "    'Mall F',\n",
        "    'Monumen G',\n",
        "    'Taman Hutan H',\n",
        "    'Air terjun I',\n",
        "    'Gunung J'\n",
        "]\n",
        "\n",
        "tourism_coor = [\n",
        "    [-34.93, -31.23],\n",
        "    [-77.90, 79.90],\n",
        "    [46.67, 40.44],\n",
        "    [21.83, 1.94],\n",
        "    [41.77, -63.44],\n",
        "    [-1.10, -47.22],\n",
        "    [68.81, 64.65],\n",
        "    [-21.23, 22.03],\n",
        "    [68.30, -69.73],\n",
        "    [12.82, 30.75],\n",
        "]\n",
        "\n",
        "current_coor = [-2.21, 3.15]\n",
        "\n",
        "nearest_object = find_nearest(current_coor, tourism_coor, tourism_name)\n",
        "print(nearest_object)"
      ],
      "metadata": {
        "colab": {
          "base_uri": "https://localhost:8080/"
        },
        "id": "cEx24_VoWfsy",
        "outputId": "e5daf40a-7582-4171-bd9a-879b9409f236"
      },
      "execution_count": null,
      "outputs": [
        {
          "output_type": "stream",
          "name": "stdout",
          "text": [
            "{'object': 'Danau D', 'dist': 24.07043206924213}\n"
          ]
        }
      ]
    },
    {
      "cell_type": "markdown",
      "source": [
        "# 6. Find Size of People in Some Groups\n",
        "---"
      ],
      "metadata": {
        "id": "M5K-F970XVAn"
      }
    },
    {
      "cell_type": "markdown",
      "source": [
        "You are in a research team. Your product team asked you to help their research agenda, i.e. performing a Focus Group Discussion (FGD).\n",
        "\n",
        "The product team need to distribute the user equally to each group. Please help the product team."
      ],
      "metadata": {
        "id": "PAsUA1bzXq78"
      }
    },
    {
      "cell_type": "markdown",
      "source": [
        "Your tasked is to divide $n$ people as equal as possible to $k$ groups."
      ],
      "metadata": {
        "id": "BpBvDLYqYgWq"
      }
    },
    {
      "cell_type": "markdown",
      "source": [
        "---\n",
        "Input example-1:\n",
        "\n",
        "```python\n",
        "n = 14\n",
        "k = 3\n",
        "\n",
        "group_size = distribute_user(n, k)\n",
        "print(group_size)\n",
        "```\n",
        "\n",
        "Output example-1:\n",
        "```\n",
        "[5, 5, 4]\n",
        "```"
      ],
      "metadata": {
        "id": "iJOlodsZINpC"
      }
    },
    {
      "cell_type": "markdown",
      "source": [
        "---\n",
        "Input example-2:\n",
        "\n",
        "```python\n",
        "n = 40\n",
        "k = 7\n",
        "\n",
        "group_size = distribute_user(n, k)\n",
        "print(group_size)\n",
        "```\n",
        "\n",
        "Output example-2:\n",
        "```\n",
        "[6, 6, 6, 6, 6, 5, 5]\n",
        "```"
      ],
      "metadata": {
        "id": "pD7X1GDoId97"
      }
    },
    {
      "cell_type": "markdown",
      "source": [
        "---\n",
        "Input example-3:\n",
        "\n",
        "```python\n",
        "n = 20\n",
        "k = 2\n",
        "\n",
        "group_size = distribute_user(n, k)\n",
        "print(group_size)\n",
        "```\n",
        "\n",
        "Output example-3:\n",
        "```\n",
        "[10, 10]\n",
        "```"
      ],
      "metadata": {
        "id": "epGie_1WInpO"
      }
    },
    {
      "cell_type": "markdown",
      "source": [
        "---\n",
        "Write function"
      ],
      "metadata": {
        "id": "cKHeHPVrQTZx"
      }
    },
    {
      "cell_type": "code",
      "source": [
        "# DO NOT CHANGE THE NAME & INPUT OF THE FUNCTION\n",
        "def distribute_user(n, k):\n",
        "    '''\n",
        "    Function to distribute n user equally to k class\n",
        "\n",
        "    Parameters\n",
        "    ----------\n",
        "    n : int\n",
        "        The number of people to distribute\n",
        "\n",
        "    k : int\n",
        "        The number of group\n",
        "\n",
        "    Returns\n",
        "    -------\n",
        "    group_size : list\n",
        "        The list of group size (must be integer) and shape of (k)\n",
        "    '''\n",
        "    ###\n",
        "    ### YOUR CODE\n",
        "    ###\n",
        "\n",
        "    # Create empty list to store values of group sizes\n",
        "    distribution = []\n",
        "\n",
        "    # Add values of group sizes\n",
        "    for i in range(k):\n",
        "      distribution.append(n // k + 1)\n",
        "\n",
        "    # Check if sum of the distribution is greater than n\n",
        "    if sum(distribution) > n:\n",
        "\n",
        "      # While loop to reduce the sizes of the last groups by one\n",
        "      # until the sum of the distribution equals to n\n",
        "      counter = k\n",
        "      while sum(distribution) > n:\n",
        "        distribution[counter-1] -= 1    # Reduce the number of members of the last group by 1\n",
        "        counter -= 1\n",
        "      return distribution\n",
        "\n",
        "    return distribution"
      ],
      "metadata": {
        "id": "wHtoqo7DWtMw"
      },
      "execution_count": null,
      "outputs": []
    },
    {
      "cell_type": "markdown",
      "source": [
        "Check function"
      ],
      "metadata": {
        "id": "U2XflSGjZx4Q"
      }
    },
    {
      "cell_type": "code",
      "source": [
        "# DO NOT CHANGE ANYTHING IN THIS CELL\n",
        "# Just run after you finish the function\n",
        "n = 14\n",
        "k = 3\n",
        "\n",
        "group_size = distribute_user(n, k)\n",
        "print(group_size)"
      ],
      "metadata": {
        "colab": {
          "base_uri": "https://localhost:8080/"
        },
        "id": "nOO1IlWnZwuN",
        "outputId": "d514c0d0-14b1-47ab-e8a4-a9df70ff7431"
      },
      "execution_count": null,
      "outputs": [
        {
          "output_type": "stream",
          "name": "stdout",
          "text": [
            "[5, 5, 4]\n"
          ]
        }
      ]
    },
    {
      "cell_type": "markdown",
      "source": [
        "# 7. Summarize Data with OOP\n",
        "---"
      ],
      "metadata": {
        "id": "zSIPgPCNpTvP"
      }
    },
    {
      "cell_type": "markdown",
      "source": [
        "Write a Class that can summarize the given data\n",
        "\n",
        "- Named the class with `Data`\n",
        "- Initialize the object with no input\n",
        "- `Data` has several attributes:\n",
        "  - `data` --> return the input data\n",
        "  - `size` --> return the size of the input data\n",
        "- `Data` has several methods:\n",
        "  - `read_data(data)` --> to read the input data\n",
        "  - `find_total()` --> return the total sum of the input data\n",
        "  - `find_average()` --> return the average of the input data"
      ],
      "metadata": {
        "id": "ru2vSA8spXye"
      }
    },
    {
      "cell_type": "markdown",
      "source": [
        "---\n",
        "Input example-1:\n",
        "\n",
        "```python\n",
        "data = [0, 1, 2, 3, 4, 5, 6, 7, 8, 9]\n",
        "\n",
        "data_obj = Data()\n",
        "data_obj.read_data(data)\n",
        "print(data_obj.data)\n",
        "print(data_obj.size)\n",
        "print(data_obj.find_total())\n",
        "print(data_obj.find_average())\n",
        "```\n",
        "\n",
        "Output example-1:\n",
        "```\n",
        "[0, 1, 2, 3, 4, 5, 6, 7, 8, 9]\n",
        "10\n",
        "45\n",
        "4.5\n",
        "```"
      ],
      "metadata": {
        "id": "2Gq1ewKRI8bA"
      }
    },
    {
      "cell_type": "markdown",
      "source": [
        "---\n",
        "Input example-2:\n",
        "\n",
        "```python\n",
        "data = [-4, -3, -2, -1, 0, 1, 2, 3, 4, 5]\n",
        "\n",
        "data_obj = Data()\n",
        "data_obj.read_data(data)\n",
        "print(data_obj.data)\n",
        "print(data_obj.size)\n",
        "print(data_obj.find_total())\n",
        "print(data_obj.find_average())\n",
        "```\n",
        "\n",
        "Output example-2:\n",
        "```\n",
        "[-4, -3, -2, -1, 0, 1, 2, 3, 4, 5]\n",
        "10\n",
        "5\n",
        "0.5\n",
        "```"
      ],
      "metadata": {
        "id": "9kMZf0-kJLkI"
      }
    },
    {
      "cell_type": "markdown",
      "source": [
        "---\n",
        "Write class"
      ],
      "metadata": {
        "id": "QTKxxIc6QXsE"
      }
    },
    {
      "cell_type": "code",
      "source": [
        "# DO NOT CHANGE THE NAME & INPUT OF THE CLASS\n",
        "class Data:\n",
        "    ###\n",
        "    ### YOUR CODE\n",
        "    ###\n",
        "\n",
        "  # Initialize class\n",
        "  def __init__(self):\n",
        "    pass\n",
        "\n",
        "  # Create method to read data\n",
        "  def read_data(self, data):\n",
        "    self.data = data\n",
        "    self.size = len(data)\n",
        "\n",
        "  # Create method to return sum of the data\n",
        "  def find_total(self):\n",
        "    return sum(self.data)\n",
        "\n",
        "  # Create method to return the average of the data\n",
        "  def find_average(self):\n",
        "    return sum(self.data) / len(self.data)"
      ],
      "metadata": {
        "id": "AvGsXD5qqyO3"
      },
      "execution_count": null,
      "outputs": []
    },
    {
      "cell_type": "markdown",
      "source": [
        "Check function"
      ],
      "metadata": {
        "id": "OHWA4SunrI9_"
      }
    },
    {
      "cell_type": "code",
      "source": [
        "# DO NOT CHANGE ANYTHING IN THIS CELL\n",
        "# Just run after you finish the function\n",
        "data = [0, 1, 2, 3, 4, 5, 6, 7, 8, 9]\n",
        "\n",
        "try:\n",
        "    data_obj = Data()\n",
        "    data_obj.read_data(data)\n",
        "\n",
        "    print(data_obj.data)\n",
        "    print(data_obj.size)\n",
        "    print(data_obj.find_total())\n",
        "    print(data_obj.find_average())\n",
        "except Exception as e:\n",
        "    print('There is something wrong')"
      ],
      "metadata": {
        "colab": {
          "base_uri": "https://localhost:8080/"
        },
        "id": "QZC3Wbw2rNdL",
        "outputId": "d509cb7f-be72-4a39-bdd0-1b4c3cc9820e"
      },
      "execution_count": null,
      "outputs": [
        {
          "output_type": "stream",
          "name": "stdout",
          "text": [
            "[0, 1, 2, 3, 4, 5, 6, 7, 8, 9]\n",
            "10\n",
            "45\n",
            "4.5\n"
          ]
        }
      ]
    },
    {
      "cell_type": "markdown",
      "source": [
        "# 8. User with Double Promo\n",
        "---"
      ],
      "metadata": {
        "id": "EAfzCwRWbEKo"
      }
    },
    {
      "cell_type": "markdown",
      "source": [
        "You are on a marketing team. Your team have 2 types of promo, `promo A` and `promo B`, that user can get **only one of them**.\n",
        "\n",
        "You suspect that there are some users have double promo. Given a `user_ID`, `promo_A_status`, and `promo_B_status`, create a function that return `user_ID` whose have double promo."
      ],
      "metadata": {
        "id": "-KEhH3TtbddB"
      }
    },
    {
      "cell_type": "markdown",
      "source": [
        "---\n",
        "Input example-1:\n",
        "\n",
        "```python\n",
        "user_ID = ['01', '02', '03', '04', '05', '06', '07']\n",
        "promo_A_status = [1, 0, 0, 1, 1, 0, 1]\n",
        "promo_B_status = [0, 0, 1, 1, 0, 1, 1]\n",
        "\n",
        "double_ID = find_double_promo(user_ID, promo_A_status, promo_B_status)\n",
        "print(double_ID)\n",
        "```\n",
        "\n",
        "Output example-1:\n",
        "```\n",
        "['04', '07']\n",
        "```"
      ],
      "metadata": {
        "id": "IYqvC-5QJuJH"
      }
    },
    {
      "cell_type": "markdown",
      "source": [
        "---\n",
        "Input example-2:\n",
        "\n",
        "```python\n",
        "user_ID = ['a', 'b', 'c', 'd', 'e']\n",
        "promo_A_status = [1, 1, 1, 1, 1]\n",
        "promo_B_status = [0, 1, 1, 1, 1]\n",
        "\n",
        "double_ID = find_double_promo(user_ID, promo_A_status, promo_B_status)\n",
        "print(double_ID)\n",
        "```\n",
        "\n",
        "Output example-2:\n",
        "```\n",
        "['b', 'c', 'd', 'e']\n",
        "```"
      ],
      "metadata": {
        "id": "G9Lpyf5pJ4nf"
      }
    },
    {
      "cell_type": "markdown",
      "source": [
        "---\n",
        "Input example-3:\n",
        "\n",
        "```python\n",
        "user_ID = ['a4a', '23b', 'f4c', '5d6']\n",
        "promo_A_status = [0, 0, 1, 0]\n",
        "promo_B_status = [0, 0, 1, 1]\n",
        "\n",
        "double_ID = find_double_promo(user_ID, promo_A_status, promo_B_status)\n",
        "print(double_ID)\n",
        "```\n",
        "\n",
        "Output example-3:\n",
        "```\n",
        "['f4c']\n",
        "```"
      ],
      "metadata": {
        "id": "j6iRo-fLKFhd"
      }
    },
    {
      "cell_type": "markdown",
      "source": [
        "---\n",
        "Write function"
      ],
      "metadata": {
        "id": "fG1Htj_SQdGo"
      }
    },
    {
      "cell_type": "code",
      "source": [
        "# DO NOT CHANGE THE NAME & INPUT OF THE FUNCTION\n",
        "def find_double_promo(user_ID, promo_A_status, promo_B_status):\n",
        "    '''\n",
        "    Find user ID that has double promo\n",
        "\n",
        "    Parameters\n",
        "    ----------\n",
        "    user_ID: list\n",
        "        List of user ID\n",
        "\n",
        "    promo_A_status: list\n",
        "        List of user ID that get promo A.\n",
        "        1 = get promo\n",
        "        0 = did not get promo\n",
        "\n",
        "    promo_B_status: list\n",
        "        List of user ID that get promo B.\n",
        "        1 = get promo\n",
        "        0 = did not get promo\n",
        "\n",
        "    Returns\n",
        "    -------\n",
        "    double_ID: list\n",
        "        List of user that get double promo.\n",
        "        If None, return []\n",
        "    '''\n",
        "    ###\n",
        "    ### YOUR CODE HERE\n",
        "    ###\n",
        "\n",
        "    # Check whether the lengths of the input lists are not the same\n",
        "    if len(user_ID) != len(promo_A_status) or len(user_ID) != len(promo_B_status) or len(promo_A_status) != len(promo_B_status):\n",
        "      return \"The lengths of the input lists should be the same.\"\n",
        "    else:\n",
        "\n",
        "      # Initialize empty list to store IDs of users possessing double promos\n",
        "      double_promo_users = []\n",
        "\n",
        "      for user, promo_A, promo_B in zip(user_ID, promo_A_status, promo_B_status):\n",
        "\n",
        "        # Check if the user has both promos\n",
        "        if promo_A == 1 and promo_B == 1:\n",
        "          double_promo_users.append(user)   # Add IDs of users possessing double promos\n",
        "        else:\n",
        "          pass\n",
        "\n",
        "      return double_promo_users"
      ],
      "metadata": {
        "id": "-inqZtScbLfk"
      },
      "execution_count": null,
      "outputs": []
    },
    {
      "cell_type": "markdown",
      "source": [
        "Check function"
      ],
      "metadata": {
        "id": "MIZIch6IcYLC"
      }
    },
    {
      "cell_type": "code",
      "source": [
        "# DO NOT CHANGE ANYTHING IN THIS CELL\n",
        "# Just run after you finish the function\n",
        "user_ID = ['01', '02', '03', '04', '05', '06', '07']\n",
        "promo_A_status = [1, 0, 0, 1, 1, 0, 1]\n",
        "promo_B_status = [0, 0, 1, 1, 0, 1, 1]\n",
        "\n",
        "double_ID = find_double_promo(user_ID, promo_A_status, promo_B_status)\n",
        "print(double_ID)"
      ],
      "metadata": {
        "colab": {
          "base_uri": "https://localhost:8080/"
        },
        "id": "tgwAXxZedj5p",
        "outputId": "2d8c8f2f-3e53-4138-fb8b-9cd6545d30a3"
      },
      "execution_count": null,
      "outputs": [
        {
          "output_type": "stream",
          "name": "stdout",
          "text": [
            "['04', '07']\n"
          ]
        }
      ]
    },
    {
      "cell_type": "markdown",
      "source": [
        "# 9. Find Duplicate Person in a Research\n",
        "---"
      ],
      "metadata": {
        "id": "fI9XOK7heIDc"
      }
    },
    {
      "cell_type": "markdown",
      "source": [
        "The marketing team & sales want to make sure that there is no duplicate person in the data.\n",
        "\n",
        "Given a list of people ID & its name, find people ID & names that has similar names."
      ],
      "metadata": {
        "id": "G52VxxpveQzk"
      }
    },
    {
      "cell_type": "markdown",
      "source": [
        "---\n",
        "Input example-1:\n",
        "\n",
        "```python\n",
        "people_ID = ['01', '02', '03', '04', '05', '06', '07']\n",
        "people_name = [\n",
        "    'Budi santoso',\n",
        "    'Pramono Setiadi',\n",
        "    'Rijal',\n",
        "    'Dedi setiawan',\n",
        "    'rijal',\n",
        "    'Alesha Nur',\n",
        "    'Dedi Setiawan'\n",
        "]\n",
        "\n",
        "people_duplicate = find_duplicates(people_ID, people_name)\n",
        "print(people_duplicate)\n",
        "```\n",
        "\n",
        "Output example-1:\n",
        "```\n",
        "[['03', 'Rijal'], ['04', 'Dedi setiawan'], ['05', 'rijal'], ['07', 'Dedi Setiawan']]\n",
        "```"
      ],
      "metadata": {
        "id": "T2kqfUT2KrF4"
      }
    },
    {
      "cell_type": "markdown",
      "source": [
        "---\n",
        "Input example-2:\n",
        "\n",
        "```python\n",
        "people_ID = ['1e', 'd2', '3b', 'a4', 'q5']\n",
        "people_name = [\n",
        "    'aa cahya',\n",
        "    'AA cahYa',\n",
        "    'bb durian',\n",
        "    'cc maANGGa',\n",
        "    'AA CAHYA ',\n",
        "]\n",
        "\n",
        "people_duplicate = find_duplicates(people_ID, people_name)\n",
        "print(people_duplicate)\n",
        "```\n",
        "\n",
        "Output example-2:\n",
        "```\n",
        "[['1e', 'aa cahya'], ['d2', 'AA cahYa'], ['q5', 'AA CAHYA ']]\n",
        "```"
      ],
      "metadata": {
        "id": "vdmSOa8qKzzc"
      }
    },
    {
      "cell_type": "markdown",
      "source": [
        "---\n",
        "Write function"
      ],
      "metadata": {
        "id": "DJcZLrm5QjJX"
      }
    },
    {
      "cell_type": "code",
      "source": [
        "# DO NOT CHANGE THE NAME & INPUT OF THE FUNCTION\n",
        "def find_duplicates(people_ID, people_name):\n",
        "    '''\n",
        "    Function to find duplicate person\n",
        "\n",
        "    Parameters\n",
        "    ----------\n",
        "    people_ID : List\n",
        "        list of people ID\n",
        "\n",
        "    people_name : list\n",
        "        list of people name\n",
        "\n",
        "    Returns\n",
        "    -------\n",
        "    people_duplicate : list\n",
        "        List of duplicate people\n",
        "    '''\n",
        "    ###\n",
        "    ### YOUR CODE HERE\n",
        "    ###\n",
        "\n",
        "    # Check if the input lists are of the same length\n",
        "    if len(people_ID) != len(people_name):\n",
        "      return \"The lengths of both lists should be the same\"\n",
        "    else:\n",
        "\n",
        "      # Initialize empty list to store duplicate names\n",
        "      duplicates = []\n",
        "\n",
        "      # Create a set to eliminate duplicates\n",
        "      set_people_name = set([name.rstrip().lower() for name in people_name])    # Use rstrip to anticipate names that end with spaces\n",
        "\n",
        "      # Create an empty dictionary to count duplicates\n",
        "      dict_people = {}\n",
        "\n",
        "      # Initialize keys for the dictionary\n",
        "      for i in range(len(list(set_people_name))):\n",
        "        dict_people.update({list(set_people_name)[i]: 0})\n",
        "\n",
        "      # Count duplicates\n",
        "      for name in people_name:\n",
        "        if name.lower() in dict_people.keys():\n",
        "          dict_people[name.lower()] += 1\n",
        "\n",
        "      for id, name in zip(people_ID, people_name):\n",
        "        if name.rstrip().lower() in dict_people.keys():   # Use rstrip to anticipate names that end with spaces\n",
        "          if dict_people[name.rstrip().lower()] > 1:\n",
        "            duplicates.append([id, name])     # Append ID and name to the duplicates list\n",
        "\n",
        "      return duplicates"
      ],
      "metadata": {
        "id": "V6NVW9RweOi6"
      },
      "execution_count": null,
      "outputs": []
    },
    {
      "cell_type": "markdown",
      "source": [
        "Check function"
      ],
      "metadata": {
        "id": "sIsOqO5Hhlfa"
      }
    },
    {
      "cell_type": "code",
      "source": [
        "# DO NOT CHANGE ANYTHING IN THIS CELL\n",
        "# Just run after you finish the function\n",
        "people_ID = ['01', '02', '03', '04', '05', '06', '07']\n",
        "people_name = [\n",
        "    'Budi santoso',\n",
        "    'Pramono Setiadi',\n",
        "    'Rijal',\n",
        "    'Dedi setiawan',\n",
        "    'rijal',\n",
        "    'Alesha Nur',\n",
        "    'Dedi Setiawan'\n",
        "]\n",
        "\n",
        "people_duplicate = find_duplicates(people_ID, people_name)\n",
        "print(people_duplicate)"
      ],
      "metadata": {
        "colab": {
          "base_uri": "https://localhost:8080/"
        },
        "id": "Hvf5_shihkQX",
        "outputId": "730e7791-adf5-4657-b91f-7d7df3b87606"
      },
      "execution_count": null,
      "outputs": [
        {
          "output_type": "stream",
          "name": "stdout",
          "text": [
            "[['03', 'Rijal'], ['04', 'Dedi setiawan'], ['05', 'rijal'], ['07', 'Dedi Setiawan']]\n"
          ]
        }
      ]
    },
    {
      "cell_type": "markdown",
      "source": [
        "# 10. Time to Transport Logistic\n",
        "---"
      ],
      "metadata": {
        "id": "8nLTA3CZkOwn"
      }
    },
    {
      "cell_type": "markdown",
      "source": [
        "You are a data analyst in a transport logistic. You need to recommend the logistic driver a set of route so that they can deliver the goods efficiently.\n",
        "\n",
        "Simply, you can create a function to calculate time needed for the driver to follow several set of routes from an initial position and comeback again."
      ],
      "metadata": {
        "id": "LS3tNJ-wkf04"
      }
    },
    {
      "cell_type": "markdown",
      "source": [
        "We already have a look-up table that shows the duration needed for moving between two locations\n",
        "\n",
        "**Durations Table**\n",
        "\n",
        "<center>\n",
        "\n",
        "||A|B|C|D|E|\n",
        "|:-:|:-:|:-:|:-:|:-:|:-:|\n",
        "|A| 0 | 3 | 5 | 10 | 4 |\n",
        "|B| 3 | 0 | 6 | 8 | 9 |\n",
        "|C| 5 | 6 | 0 | 7 | 2 |\n",
        "|D| 10 | 8 | 7 | 0 | 1 |\n",
        "|E| 4 | 9 | 2 | 1 | 0 |"
      ],
      "metadata": {
        "id": "lpRhmdPMfp7z"
      }
    },
    {
      "cell_type": "markdown",
      "source": [
        "Say, you want to know the duration of city `B` to city `E`,\n",
        "\n",
        "**First**, `B` is the starting point, so go to row `B`\n",
        "\n",
        "||A|B|C|D|E|\n",
        "|:-:|:-:|:-:|:-:|:-:|:-:|\n",
        "|B| 3 | 0 | 6 | 8 | 9 |\n",
        "\n",
        "<br>\n",
        "\n",
        "**Then**, `E` is the destination, so from the selected row, go to column `E`\n",
        "\n",
        "||A|B|C|D|E|\n",
        "|:-:|:-:|:-:|:-:|:-:|:-:|\n",
        "|B|  |  |  |  | 9 |\n",
        "\n",
        "<br>\n",
        "\n",
        "**Finally**, the duration needed to go from `B` to `E` is 9"
      ],
      "metadata": {
        "id": "fP4JXfOqgQ9O"
      }
    },
    {
      "cell_type": "markdown",
      "source": [
        "To calculate it easily in Python, we turn the duration table into this list\n",
        "\n",
        "```python\n",
        "duration_table = [\n",
        "    [0, 3, 5, 10, 4],\n",
        "    [3, 0, 6, 8, 9],\n",
        "    [5, 6, 0, 7, 2],\n",
        "    [10, 8, 7, 0, 1],\n",
        "    [4, 9, 2, 1, 0]\n",
        "]\n",
        "```\n",
        "\n",
        "Say you want to measure duration from city `B` to `E`, then the duration would be `duration_table[1][4]` or `duration_table[4][1]`"
      ],
      "metadata": {
        "id": "PcqS5JDjlB57"
      }
    },
    {
      "cell_type": "code",
      "source": [
        "# Run this code\n",
        "# Don't change anything\n",
        "duration_table = [\n",
        "    [0, 3, 5, 10, 4],\n",
        "    [3, 0, 6, 8, 9],\n",
        "    [5, 6, 0, 7, 2],\n",
        "    [10, 8, 7, 0, 1],\n",
        "    [4, 9, 2, 1, 0]\n",
        "]\n",
        "\n",
        "duration_table[1][4], duration_table[4][1]"
      ],
      "metadata": {
        "colab": {
          "base_uri": "https://localhost:8080/"
        },
        "id": "VQaSlT_SmG-m",
        "outputId": "095d13ef-18f3-4818-d07e-fc77f85fb6d5"
      },
      "execution_count": null,
      "outputs": [
        {
          "output_type": "execute_result",
          "data": {
            "text/plain": [
              "(9, 9)"
            ]
          },
          "metadata": {},
          "execution_count": 7
        }
      ]
    },
    {
      "cell_type": "markdown",
      "source": [
        "We usually calculate the duration needed from a set of route, e.g. `ABCDEBE`.\n",
        "\n",
        "The step to calculate the total duration needed to move according to the route (`ABCDEBE`) and get back to the original position (in this case is `A`)\n",
        "\n",
        "**First**, Extract all the pair of destination inside the route `ABCDEBE`\n",
        "\n",
        "|Route|Time|\n",
        "|:-:|:-:|\n",
        "|`A -> B`||\n",
        "|`B -> C`||\n",
        "|`C -> D`||\n",
        "|`D -> E`||\n",
        "|`E -> B`||\n",
        "|`B -> E`||\n",
        "|`E -> A`||\n",
        "\n",
        "<br>\n",
        "\n",
        "**Next**, obtain all the route duration from the destination table\n",
        "\n",
        "|Route|Time|\n",
        "|:-:|:-:|\n",
        "|`A -> B`|3|\n",
        "|`B -> C`|6|\n",
        "|`C -> D`|7|\n",
        "|`D -> E`|1|\n",
        "|`E -> B`|9|\n",
        "|`B -> E`|9|\n",
        "|`E -> A`|4|\n",
        "\n",
        "<br>\n",
        "\n",
        "**Finally**, add all the time\n",
        "\n",
        "$$\n",
        "\\begin{align*}\n",
        "\\text{total time} &= 3 + 6 + 7 + 1 + 9 + 9 + 4 \\\\\n",
        "\\text{total time} &= 39 \\\\\n",
        "\\end{align*}\n",
        "$$\n"
      ],
      "metadata": {
        "id": "FIbn_sYchcWg"
      }
    },
    {
      "cell_type": "markdown",
      "source": [
        "---\n",
        "Input example-1:\n",
        "\n",
        "```python\n",
        "duration_table = [\n",
        "    [0, 3, 5, 10, 4],\n",
        "    [3, 0, 6, 8, 9],\n",
        "    [5, 6, 0, 7, 2],\n",
        "    [10, 8, 7, 0, 1],\n",
        "    [4, 9, 2, 1, 0]\n",
        "]\n",
        "route = 'ABCDEBE'\n",
        "\n",
        "total_time = calculate_duration(route, duration_table)\n",
        "print(total_time)\n",
        "```\n",
        "\n",
        "Output example-1:\n",
        "```\n",
        "39\n",
        "```"
      ],
      "metadata": {
        "id": "PiF2rGR0LqM8"
      }
    },
    {
      "cell_type": "markdown",
      "source": [
        "---\n",
        "Input example-2:\n",
        "\n",
        "```python\n",
        "duration_table = [\n",
        "    [0, 1, 2, 3],\n",
        "    [1, 0, 4, 5],\n",
        "    [2, 4, 0, 6],\n",
        "    [3, 5, 6, 0]\n",
        "]\n",
        "route = 'ABCDCDBAB'\n",
        "\n",
        "total_time = calculate_duration(route, duration_table)\n",
        "print(total_time)\n",
        "```\n",
        "\n",
        "Output example-2:\n",
        "```\n",
        "31\n",
        "```"
      ],
      "metadata": {
        "id": "NKgnFF0IL1_3"
      }
    },
    {
      "cell_type": "markdown",
      "source": [
        "---\n",
        "Write function"
      ],
      "metadata": {
        "id": "aE-rouBnQvSQ"
      }
    },
    {
      "cell_type": "code",
      "source": [
        "# DO NOT CHANGE THE NAME & INPUT OF THE FUNCTION\n",
        "\n",
        "# Create a function to check whether two matrices are identical\n",
        "def are_matrices_identical(matrix_1, matrix_2):\n",
        "  if matrix_1 == matrix_2:\n",
        "    return True\n",
        "  else:\n",
        "    return False\n",
        "\n",
        "def calculate_duration(route, duration_table):\n",
        "    '''\n",
        "    Function to calculate travel duration from a given route and back to the origin\n",
        "\n",
        "    Parameters\n",
        "    ----------\n",
        "    route : str\n",
        "        The route\n",
        "\n",
        "    Returns\n",
        "    -------\n",
        "    total_time : int\n",
        "        The travel duration\n",
        "    '''\n",
        "    ###\n",
        "    ### YOUR CODE HERE\n",
        "    ###\n",
        "\n",
        "    # Check if there are rows with different lengths\n",
        "    for row in duration_table:\n",
        "      if len(row) != len(duration_table[0]):\n",
        "        return \"Matrix is invalid.\"\n",
        "\n",
        "    # Initialize empty alphabet to match letter with its numerical order\n",
        "    dict_alphabet = {}\n",
        "\n",
        "    # Check if the matrix has different row length and column length\n",
        "    if len(duration_table) != len(duration_table[0]):\n",
        "      return \"Matrix is not square.\"\n",
        "    else:\n",
        "      if len(duration_table) <= 2:    # Check if matrix is smaller than 2*2\n",
        "        return \"Matrix is invalid.\"\n",
        "      elif len(duration_table) > 26:    # Check if the matrix length is greater than 26 (constraint)\n",
        "        return \"Matrix is too large.\"\n",
        "      else:\n",
        "\n",
        "        # Create transpose matrix to make sure that the matrix is appropriate\n",
        "        transpose_matrix = [[duration_table[j][i] for j in range(len(duration_table))] for i in range(len(duration_table[0]))]\n",
        "\n",
        "        # Check if the table and the transposed table are identical\n",
        "        if are_matrices_identical(duration_table, transpose_matrix) == False:\n",
        "          return \"The values of the respective columns and rows must be identical.\"\n",
        "\n",
        "    # Mapping letters to their numerical order\n",
        "    for char, number in zip(\"ABCDEFGHIJKLMNOPQRSTUVWXYZ\", range(26)):\n",
        "      dict_alphabet.update({char: number})\n",
        "\n",
        "    # Create empty list to divide the route\n",
        "    route_sliced = []\n",
        "\n",
        "    # Divide the route\n",
        "    for i in range(len(route)):\n",
        "      route_sliced.append(route[i:i+2])\n",
        "\n",
        "    # The last item of the resulted divided route only contain one letter.\n",
        "    # Therefore, we concatenate it with the starting point.\n",
        "    if len(route_sliced[-1]) == 1:\n",
        "      route_sliced[-1] = route_sliced[-1] + route[0]\n",
        "\n",
        "    # Create empty list to store the distances of the divided route\n",
        "    route_length = []\n",
        "\n",
        "    # Append the distances of each divided route\n",
        "    for subroute in route_sliced:\n",
        "      route_length.append(duration_table[dict_alphabet[subroute[0]]][dict_alphabet[subroute[1]]])\n",
        "\n",
        "    # Return the sum of the route length\n",
        "    return sum(route_length)\n"
      ],
      "metadata": {
        "id": "uRA_xwz1kcQO"
      },
      "execution_count": null,
      "outputs": []
    },
    {
      "cell_type": "markdown",
      "source": [
        "Check function"
      ],
      "metadata": {
        "id": "FktMhd47ni_y"
      }
    },
    {
      "cell_type": "code",
      "source": [
        "# DO NOT CHANGE ANYTHING IN THIS CELL\n",
        "# Just run after you finish the function\n",
        "route = 'ABCDEBE'\n",
        "\n",
        "total_time = calculate_duration(route, duration_table)\n",
        "print(total_time)"
      ],
      "metadata": {
        "colab": {
          "base_uri": "https://localhost:8080/"
        },
        "id": "tJX-kYnMnhkz",
        "outputId": "e6787c1d-27b5-465d-b97b-a3f3e9027fe6"
      },
      "execution_count": null,
      "outputs": [
        {
          "output_type": "stream",
          "name": "stdout",
          "text": [
            "39\n"
          ]
        }
      ]
    },
    {
      "cell_type": "code",
      "source": [],
      "metadata": {
        "id": "iSMJHOJbFdHa"
      },
      "execution_count": null,
      "outputs": []
    }
  ]
}